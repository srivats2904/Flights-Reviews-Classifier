{
  "cells": [
    {
      "cell_type": "markdown",
      "metadata": {
        "id": "uWxIt7bbLA33"
      },
      "source": [
        "## **PySpark Installation**"
      ]
    },
    {
      "cell_type": "code",
      "execution_count": 132,
      "metadata": {
        "id": "ztkwN3S9KJCB"
      },
      "outputs": [],
      "source": [
        "#from google.colab import drive\n",
        "#drive.mount('/content/drive')"
      ]
    },
    {
      "cell_type": "code",
      "execution_count": 133,
      "metadata": {
        "id": "PXPwWLMzxmEG"
      },
      "outputs": [],
      "source": [
        "#!apt-get install openjdk-8-jdk-headless -qq > /dev/null"
      ]
    },
    {
      "cell_type": "code",
      "execution_count": 134,
      "metadata": {
        "id": "zIuTDoOdJ-87"
      },
      "outputs": [],
      "source": [
        "#!wget https://downloads.apache.org/spark/spark-3.2.2/spark-3.2.2-bin-hadoop2.7.tgz"
      ]
    },
    {
      "cell_type": "code",
      "execution_count": 135,
      "metadata": {
        "id": "vNiuyKRSKpm8"
      },
      "outputs": [],
      "source": [
        "#!tar -xvzf /content/spark-3.2.2-bin-hadoop2.7.tgz"
      ]
    },
    {
      "cell_type": "code",
      "execution_count": 136,
      "metadata": {
        "id": "DvPbSzTVMnS_"
      },
      "outputs": [],
      "source": [
        "#!pip install -q findspark"
      ]
    },
    {
      "cell_type": "code",
      "execution_count": 137,
      "metadata": {
        "id": "1i5AgoNgMp7a"
      },
      "outputs": [],
      "source": [
        "import os\n",
        "os.environ[\"JAVA_HOME\"] = \"/usr/lib/jvm/java-8-openjdk-amd64\"\n",
        "os.environ[\"SPARK_HOME\"] = \"/content/spark-3.2.2-bin-hadoop2.7\""
      ]
    },
    {
      "cell_type": "code",
      "execution_count": 138,
      "metadata": {
        "id": "SZgCAJ9iMtkU"
      },
      "outputs": [],
      "source": [
        "import findspark\n",
        "findspark.init()"
      ]
    },
    {
      "cell_type": "code",
      "execution_count": 139,
      "metadata": {
        "id": "qzWW9Q9pNMvb",
        "colab": {
          "base_uri": "https://localhost:8080/",
          "height": 36
        },
        "outputId": "396c9ed7-d4fc-4287-b5e4-e02210ef4442"
      },
      "outputs": [
        {
          "output_type": "execute_result",
          "data": {
            "text/plain": [
              "'/content/spark-3.2.2-bin-hadoop2.7'"
            ],
            "application/vnd.google.colaboratory.intrinsic+json": {
              "type": "string"
            }
          },
          "metadata": {},
          "execution_count": 139
        }
      ],
      "source": [
        "findspark.find()"
      ]
    },
    {
      "cell_type": "code",
      "execution_count": 140,
      "metadata": {
        "id": "TC3a6HYMQnFJ",
        "colab": {
          "base_uri": "https://localhost:8080/",
          "height": 219
        },
        "outputId": "600a1b31-c7b8-4ecf-ed5c-e2437a825bc1"
      },
      "outputs": [
        {
          "output_type": "execute_result",
          "data": {
            "text/plain": [
              "<pyspark.sql.session.SparkSession at 0x7ff743d1fe10>"
            ],
            "text/html": [
              "\n",
              "            <div>\n",
              "                <p><b>SparkSession - in-memory</b></p>\n",
              "                \n",
              "        <div>\n",
              "            <p><b>SparkContext</b></p>\n",
              "\n",
              "            <p><a href=\"http://5d8d3ea473d3:4050\">Spark UI</a></p>\n",
              "\n",
              "            <dl>\n",
              "              <dt>Version</dt>\n",
              "                <dd><code>v3.2.2</code></dd>\n",
              "              <dt>Master</dt>\n",
              "                <dd><code>local</code></dd>\n",
              "              <dt>AppName</dt>\n",
              "                <dd><code>Colab</code></dd>\n",
              "            </dl>\n",
              "        </div>\n",
              "        \n",
              "            </div>\n",
              "        "
            ]
          },
          "metadata": {},
          "execution_count": 140
        }
      ],
      "source": [
        "from pyspark.sql import SparkSession\n",
        "\n",
        "spark = SparkSession.builder\\\n",
        "        .master(\"local\")\\\n",
        "        .appName(\"Colab\")\\\n",
        "        .config('spark.ui.port', '4050')\\\n",
        "        .getOrCreate()\n",
        "\n",
        "spark"
      ]
    },
    {
      "cell_type": "code",
      "execution_count": 141,
      "metadata": {
        "id": "d9ok4mPVBx3w"
      },
      "outputs": [],
      "source": [
        "from pyspark.sql.types import IntegerType,StringType\n",
        "from pyspark.sql.functions import col,when,isnan,count,lit\n",
        "from pyspark.ml.feature import RegexTokenizer,StopWordsRemover,HashingTF,IDF,StringIndexer,VectorAssembler,OneHotEncoder\n",
        "from pyspark.ml.classification import LogisticRegression, NaiveBayes, RandomForestClassifier\n",
        "from pyspark.ml.evaluation import BinaryClassificationEvaluator\n",
        "from pyspark.ml.tuning import CrossValidator, ParamGridBuilder\n",
        "from pyspark.ml import Pipeline"
      ]
    },
    {
      "cell_type": "code",
      "execution_count": 142,
      "metadata": {
        "id": "ELaubmY2QMQ3",
        "colab": {
          "base_uri": "https://localhost:8080/"
        },
        "outputId": "6d736287-9c58-4a94-fb50-dda42d83e7aa"
      },
      "outputs": [
        {
          "output_type": "stream",
          "name": "stdout",
          "text": [
            "+-------------+--------------------+--------------------+----------------+--------------+----------+--------------------+--------+--------------+--------------+-----+--------------+-------------------+------------------+---------------------+-----------------------------+---------------------+------------------------+------------------+-----------+\n",
            "| airline_name|                link|               title|          author|author_country|      date|             content|aircraft|type_traveller|   cabin_flown|route|overall_rating|seat_comfort_rating|cabin_staff_rating|food_beverages_rating|inflight_entertainment_rating|ground_service_rating|wifi_connectivity_rating|value_money_rating|recommended|\n",
            "+-------------+--------------------+--------------------+----------------+--------------+----------+--------------------+--------+--------------+--------------+-----+--------------+-------------------+------------------+---------------------+-----------------------------+---------------------+------------------------+------------------+-----------+\n",
            "|adria-airways|/airline-reviews/...|Adria Airways cus...|           D Ito|       Germany|2015-04-10|Outbound flight F...|    null|          null|       Economy| null|           7.0|                4.0|               4.0|                  4.0|                          0.0|                 null|                    null|               4.0|          1|\n",
            "|adria-airways|/airline-reviews/...|Adria Airways cus...|    Ron Kuhlmann| United States|2015-01-05|Two short hops ZR...|    null|          null|Business Class| null|          10.0|                4.0|               5.0|                  4.0|                          1.0|                 null|                    null|               5.0|          1|\n",
            "|adria-airways|/airline-reviews/...|Adria Airways cus...|         E Albin|   Switzerland|2014-09-14|Flew Zurich-Ljubl...|    null|          null|       Economy| null|           9.0|                5.0|               5.0|                  4.0|                          0.0|                 null|                    null|               5.0|          1|\n",
            "|adria-airways|/airline-reviews/...|Adria Airways cus...|    Tercon Bojan|     Singapore|2014-09-06|Adria serves this...|    null|          null|Business Class| null|           8.0|                4.0|               4.0|                  3.0|                          1.0|                 null|                    null|               4.0|          1|\n",
            "|adria-airways|/airline-reviews/...|Adria Airways cus...|         L James|        Poland|2014-06-16|\"WAW-SKJ Economy....|    null|          null|       Economy| null|           4.0|                4.0|               2.0|                  1.0|                          2.0|                 null|                    null|               2.0|          0|\n",
            "|adria-airways|/airline-reviews/...|Adria Airways cus...|      Dzano Edin|       Germany|2014-06-08|Sarajevo-Frankfur...|    null|          null|       Economy| null|           9.0|                4.0|               4.0|                  3.0|                          3.0|                 null|                    null|               4.0|          1|\n",
            "|adria-airways|/airline-reviews/...|Adria Airways cus...|   M Tushishvili|        France|2014-06-01|I had flights fro...|    null|          null|       Economy| null|           5.0|                4.0|               4.0|                  1.0|                          0.0|                 null|                    null|               3.0|          1|\n",
            "|adria-airways|/airline-reviews/...|Adria Airways cus...|        M Znidar|      Slovenia|2014-05-10|LJU to FRA and ba...|    null|          null|       Economy| null|           9.0|                5.0|               5.0|                  4.0|                          3.0|                 null|                    null|               4.0|          1|\n",
            "|adria-airways|/airline-reviews/...|Adria Airways cus...|    Tercon Bojan|     Singapore|2014-01-13|On my Ljubljana -...|    null|          null|Business Class| null|           8.0|                4.0|               3.0|                  4.0|                          1.0|                 null|                    null|               4.0|          1|\n",
            "|adria-airways|/airline-reviews/...|Adria Airways cus...|        M Znidar|      Slovenia|2014-01-06|Flights from LJU ...|    null|          null|       Economy| null|          10.0|                5.0|               5.0|                  4.0|                          4.0|                 null|                    null|               4.0|          1|\n",
            "|adria-airways|/airline-reviews/...|Adria Airways cus...|  Aytek Cingitas|        Turkey|2013-10-22|I was very satisf...|    null|          null|       Economy| null|           9.0|                4.0|               4.0|                  4.0|                          4.0|                 null|                    null|               4.0|          1|\n",
            "|adria-airways|/airline-reviews/...|Adria Airways cus...|    Hashim Azlan|      Malaysia|2013-08-28|I was on JP650 th...|    null|          null|       Economy| null|           7.0|                4.0|               5.0|                  3.0|                          3.0|                 null|                    null|               5.0|          1|\n",
            "|adria-airways|/airline-reviews/...|Adria Airways cus...|        L Stefan|        Canada|2013-08-19|VIE-LJU LJU-MUC A...|    null|          null|       Economy| null|           8.0|                4.0|               4.0|                  4.0|                          0.0|                 null|                    null|               4.0|          1|\n",
            "|adria-airways|/airline-reviews/...|Adria Airways cus...|    Tercon Bojan|     Singapore|2013-08-19|If I have to fly ...|    null|          null|Business Class| null|           7.0|                3.0|               3.0|                  4.0|                          1.0|                 null|                    null|               4.0|          1|\n",
            "|adria-airways|/airline-reviews/...|Adria Airways cus...|   Michael Asher|        Turkey|2013-06-10|Istanbul-Ljubljan...|    null|          null|Business Class| null|           7.0|                2.0|               5.0|                  4.0|                          0.0|                 null|                    null|               4.0|          1|\n",
            "|adria-airways|/airline-reviews/...|Adria Airways cus...|   M Tushishvili|        France|2013-05-27|Return flight Par...|    null|          null|       Economy| null|           5.0|                4.0|               4.0|                  1.0|                          0.0|                 null|                    null|               4.0|          1|\n",
            "|adria-airways|/airline-reviews/...|Adria Airways cus...|Georgios Vrontos|        Greece|2012-10-08|BEG-LJU-BEG with ...|    null|          null|       Economy| null|           9.0|                4.0|               5.0|                  4.0|                          0.0|                 null|                    null|               2.0|          1|\n",
            "|adria-airways|/airline-reviews/...|Adria Airways cus...|          R Mahr|   Switzerland|2012-07-04|I fly at least on...|    null|          null|       Economy| null|           5.0|               null|              null|                 null|                         null|                 null|                    null|               4.0|          1|\n",
            "|adria-airways|/airline-reviews/...|Adria Airways cus...|        A Vlasov|United Kingdom|2012-06-17|LTN to LJU outbou...|    null|          null|       Economy| null|           5.0|               null|              null|                 null|                         null|                 null|                    null|               4.0|          1|\n",
            "|adria-airways|/airline-reviews/...|Adria Airways cus...|    Rok Urbancic|      Slovenia|2012-06-12|Ljubljana to Brus...|    null|          null|       Economy| null|           8.0|               null|              null|                 null|                         null|                 null|                    null|               1.0|          1|\n",
            "+-------------+--------------------+--------------------+----------------+--------------+----------+--------------------+--------+--------------+--------------+-----+--------------+-------------------+------------------+---------------------+-----------------------------+---------------------+------------------------+------------------+-----------+\n",
            "only showing top 20 rows\n",
            "\n"
          ]
        }
      ],
      "source": [
        "data=spark.read.format('csv').load('/content/airline.csv',header=True)\n",
        "data.show()"
      ]
    },
    {
      "cell_type": "code",
      "source": [
        "data.collect()[0][2]"
      ],
      "metadata": {
        "colab": {
          "base_uri": "https://localhost:8080/",
          "height": 36
        },
        "id": "3IL-gfbsgjnG",
        "outputId": "a5a5a248-de1e-4b9c-fd92-01bb0010faaf"
      },
      "execution_count": 143,
      "outputs": [
        {
          "output_type": "execute_result",
          "data": {
            "text/plain": [
              "'Adria Airways customer review'"
            ],
            "application/vnd.google.colaboratory.intrinsic+json": {
              "type": "string"
            }
          },
          "metadata": {},
          "execution_count": 143
        }
      ]
    },
    {
      "cell_type": "code",
      "execution_count": 144,
      "metadata": {
        "id": "wB5yv_tGG4Oo",
        "colab": {
          "base_uri": "https://localhost:8080/"
        },
        "outputId": "79ff7b2a-507d-401c-9611-827866294975"
      },
      "outputs": [
        {
          "output_type": "execute_result",
          "data": {
            "text/plain": [
              "41455"
            ]
          },
          "metadata": {},
          "execution_count": 144
        }
      ],
      "source": [
        "data.count()"
      ]
    },
    {
      "cell_type": "code",
      "execution_count": 145,
      "metadata": {
        "id": "xr-yiMFp_lCn",
        "colab": {
          "base_uri": "https://localhost:8080/"
        },
        "outputId": "dc90bde1-8672-4276-e25c-2a5a4d8f9796"
      },
      "outputs": [
        {
          "output_type": "stream",
          "name": "stdout",
          "text": [
            "+------------+----+-----+------+--------------+----+-------+--------+--------------+-----------+-----+--------------+-------------------+------------------+---------------------+-----------------------------+---------------------+------------------------+------------------+-----------+\n",
            "|airline_name|link|title|author|author_country|date|content|aircraft|type_traveller|cabin_flown|route|overall_rating|seat_comfort_rating|cabin_staff_rating|food_beverages_rating|inflight_entertainment_rating|ground_service_rating|wifi_connectivity_rating|value_money_rating|recommended|\n",
            "+------------+----+-----+------+--------------+----+-------+--------+--------------+-----------+-----+--------------+-------------------+------------------+---------------------+-----------------------------+---------------------+------------------------+------------------+-----------+\n",
            "|           0|  14|   16|    15|          1610|  18|     13|   40045|         39107|       2956|39144|          4629|               7770|              7769|                 8160|                        10294|                39259|                   40754|              1835|        140|\n",
            "+------------+----+-----+------+--------------+----+-------+--------+--------------+-----------+-----+--------------+-------------------+------------------+---------------------+-----------------------------+---------------------+------------------------+------------------+-----------+\n",
            "\n"
          ]
        }
      ],
      "source": [
        "data.select([count(when(isnan(c) | col(c).isNull(), c)).alias(c) for c in data.columns]).show()"
      ]
    },
    {
      "cell_type": "code",
      "execution_count": 146,
      "metadata": {
        "id": "x2Wk-wykAvTM",
        "colab": {
          "base_uri": "https://localhost:8080/"
        },
        "outputId": "b203e92b-048c-465a-8d80-eb8d78c115a3"
      },
      "outputs": [
        {
          "output_type": "stream",
          "name": "stdout",
          "text": [
            "+-------------+--------------------+--------------+--------------+-------------------+------------------+---------------------+-----------------------------+------------------+-----------+\n",
            "| airline_name|             content|   cabin_flown|overall_rating|seat_comfort_rating|cabin_staff_rating|food_beverages_rating|inflight_entertainment_rating|value_money_rating|recommended|\n",
            "+-------------+--------------------+--------------+--------------+-------------------+------------------+---------------------+-----------------------------+------------------+-----------+\n",
            "|adria-airways|Outbound flight F...|       Economy|           7.0|                4.0|               4.0|                  4.0|                          0.0|               4.0|          1|\n",
            "|adria-airways|Two short hops ZR...|Business Class|          10.0|                4.0|               5.0|                  4.0|                          1.0|               5.0|          1|\n",
            "|adria-airways|Flew Zurich-Ljubl...|       Economy|           9.0|                5.0|               5.0|                  4.0|                          0.0|               5.0|          1|\n",
            "|adria-airways|Adria serves this...|Business Class|           8.0|                4.0|               4.0|                  3.0|                          1.0|               4.0|          1|\n",
            "|adria-airways|\"WAW-SKJ Economy....|       Economy|           4.0|                4.0|               2.0|                  1.0|                          2.0|               2.0|          0|\n",
            "|adria-airways|Sarajevo-Frankfur...|       Economy|           9.0|                4.0|               4.0|                  3.0|                          3.0|               4.0|          1|\n",
            "|adria-airways|I had flights fro...|       Economy|           5.0|                4.0|               4.0|                  1.0|                          0.0|               3.0|          1|\n",
            "|adria-airways|LJU to FRA and ba...|       Economy|           9.0|                5.0|               5.0|                  4.0|                          3.0|               4.0|          1|\n",
            "|adria-airways|On my Ljubljana -...|Business Class|           8.0|                4.0|               3.0|                  4.0|                          1.0|               4.0|          1|\n",
            "|adria-airways|Flights from LJU ...|       Economy|          10.0|                5.0|               5.0|                  4.0|                          4.0|               4.0|          1|\n",
            "|adria-airways|I was very satisf...|       Economy|           9.0|                4.0|               4.0|                  4.0|                          4.0|               4.0|          1|\n",
            "|adria-airways|I was on JP650 th...|       Economy|           7.0|                4.0|               5.0|                  3.0|                          3.0|               5.0|          1|\n",
            "|adria-airways|VIE-LJU LJU-MUC A...|       Economy|           8.0|                4.0|               4.0|                  4.0|                          0.0|               4.0|          1|\n",
            "|adria-airways|If I have to fly ...|Business Class|           7.0|                3.0|               3.0|                  4.0|                          1.0|               4.0|          1|\n",
            "|adria-airways|Istanbul-Ljubljan...|Business Class|           7.0|                2.0|               5.0|                  4.0|                          0.0|               4.0|          1|\n",
            "|adria-airways|Return flight Par...|       Economy|           5.0|                4.0|               4.0|                  1.0|                          0.0|               4.0|          1|\n",
            "|adria-airways|BEG-LJU-BEG with ...|       Economy|           9.0|                4.0|               5.0|                  4.0|                          0.0|               2.0|          1|\n",
            "|adria-airways|I fly at least on...|       Economy|           5.0|               null|              null|                 null|                         null|               4.0|          1|\n",
            "|adria-airways|LTN to LJU outbou...|       Economy|           5.0|               null|              null|                 null|                         null|               4.0|          1|\n",
            "|adria-airways|Ljubljana to Brus...|       Economy|           8.0|               null|              null|                 null|                         null|               1.0|          1|\n",
            "+-------------+--------------------+--------------+--------------+-------------------+------------------+---------------------+-----------------------------+------------------+-----------+\n",
            "only showing top 20 rows\n",
            "\n"
          ]
        }
      ],
      "source": [
        "cols_to_drop=['link','title','author','author_country','date','aircraft','type_traveller','route','ground_service_rating','wifi_connectivity_rating']\n",
        "data=data.drop(*cols_to_drop)\n",
        "data.show()"
      ]
    },
    {
      "cell_type": "code",
      "execution_count": 147,
      "metadata": {
        "colab": {
          "base_uri": "https://localhost:8080/"
        },
        "id": "R2ERoRPmG0F3",
        "outputId": "45730887-5f31-4d3a-b42f-b9d203cb573b"
      },
      "outputs": [
        {
          "output_type": "stream",
          "name": "stdout",
          "text": [
            "+--------------------+--------------------+---------------+--------------+-------------------+------------------+---------------------+-----------------------------+------------------+-----------+\n",
            "|        airline_name|             content|    cabin_flown|overall_rating|seat_comfort_rating|cabin_staff_rating|food_beverages_rating|inflight_entertainment_rating|value_money_rating|recommended|\n",
            "+--------------------+--------------------+---------------+--------------+-------------------+------------------+---------------------+-----------------------------+------------------+-----------+\n",
            "|       adria-airways|DUB-NAP. Was expe...|           null|          null|               null|              null|                 null|                         null|              null|          0|\n",
            "|aeroflot-russian-...|Excellent service...|        Economy|           9.0|                4.0|               3.0|                  4.0|                          3.0|               5.0|          1|\n",
            "|aeroflot-russian-...|Tel Aviv - Moscow...|        Economy|           6.0|                3.0|               4.0|                  2.0|                          2.0|               3.0|          0|\n",
            "|          aer-lingus|\"EI3281. More oft...|        Economy|           6.0|                3.0|               4.0|                  3.0|                          0.0|               3.0|          1|\n",
            "|     aegean-airlines|LHR - Mykonos rtn...|        Economy|           9.0|                4.0|               5.0|                  4.0|                          4.0|               5.0|          1|\n",
            "|          air-canada|Recently had a pl...|        Economy|           9.0|                4.0|               5.0|                  3.0|                          5.0|               4.0|          1|\n",
            "|          air-berlin|Flight AB7417 fro...|        Economy|           2.0|                2.0|               1.0|                  2.0|                          2.0|               2.0|          0|\n",
            "|    air-canada-rouge|We had a May 10 p...|Premium Economy|           1.0|                1.0|               1.0|                  1.0|                          1.0|               1.0|          0|\n",
            "|    air-canada-rouge|I flew Air Canada...|        Economy|           5.0|                1.0|               5.0|                  2.0|                          2.0|               1.0|          0|\n",
            "|    air-canada-rouge|If I had to fly R...|        Economy|           3.0|                1.0|               3.0|                  2.0|                          1.0|               2.0|          0|\n",
            "|    air-canada-rouge|Paid for first cl...|Premium Economy|           1.0|                1.0|               4.0|                  1.0|                          1.0|               1.0|          0|\n",
            "|           air-china|I couldn't believ...| Business Class|          null|                5.0|               1.0|                  1.0|                          1.0|               1.0|          0|\n",
            "|          air-europa|It was a terrible...|        Economy|          null|                2.0|               1.0|                  1.0|                          2.0|               1.0|          0|\n",
            "|          air-europa|London to Miami v...|        Economy|          null|               null|              null|                 null|                         null|               1.0|          0|\n",
            "|          air-france|CDG-Miami (round ...|        Economy|           5.0|                3.0|               3.0|                  3.0|                          4.0|               2.0|          0|\n",
            "|      air-madagascar|CDG-TNR-FDP-TNR-C...|           null|          null|               null|              null|                 null|                         null|              null|          0|\n",
            "|           air-india|\"Business class (...| Business Class|           9.0|                5.0|               4.0|                  3.0|                          3.0|               4.0|          1|\n",
            "|          air-france|NRT-CDG-AMS-LCY/L...| Business Class|           9.0|                3.0|               5.0|                  5.0|                          4.0|               4.0|          1|\n",
            "|       air-mauritius|Mauritius-Singapo...|        Economy|           6.0|               null|              null|                 null|                         null|               4.0|          1|\n",
            "|     air-new-zealand|\"Heathrow to LA i...|        Economy|           2.0|                1.0|               4.0|                  3.0|                          2.0|               2.0|          0|\n",
            "+--------------------+--------------------+---------------+--------------+-------------------+------------------+---------------------+-----------------------------+------------------+-----------+\n",
            "only showing top 20 rows\n",
            "\n"
          ]
        }
      ],
      "source": [
        "data.select(data.columns).distinct().show()"
      ]
    },
    {
      "cell_type": "code",
      "execution_count": 148,
      "metadata": {
        "colab": {
          "base_uri": "https://localhost:8080/"
        },
        "id": "a2YlGTTtG7K8",
        "outputId": "68d1a9cc-a695-4448-824d-712a77945a14"
      },
      "outputs": [
        {
          "output_type": "execute_result",
          "data": {
            "text/plain": [
              "41455"
            ]
          },
          "metadata": {},
          "execution_count": 148
        }
      ],
      "source": [
        "data.count()"
      ]
    },
    {
      "cell_type": "code",
      "execution_count": 149,
      "metadata": {
        "colab": {
          "base_uri": "https://localhost:8080/"
        },
        "id": "JirAJ_zoLSde",
        "outputId": "7f78c1bd-04f6-4694-c423-0645f9b58287"
      },
      "outputs": [
        {
          "output_type": "execute_result",
          "data": {
            "text/plain": [
              "['airline_name',\n",
              " 'content',\n",
              " 'cabin_flown',\n",
              " 'overall_rating',\n",
              " 'seat_comfort_rating',\n",
              " 'cabin_staff_rating',\n",
              " 'food_beverages_rating',\n",
              " 'inflight_entertainment_rating',\n",
              " 'value_money_rating',\n",
              " 'recommended']"
            ]
          },
          "metadata": {},
          "execution_count": 149
        }
      ],
      "source": [
        "data.columns"
      ]
    },
    {
      "cell_type": "code",
      "execution_count": 150,
      "metadata": {
        "colab": {
          "base_uri": "https://localhost:8080/"
        },
        "id": "w6g_q-kuIKrq",
        "outputId": "bf3feade-ec9e-4122-ec1b-9553a3b85419"
      },
      "outputs": [
        {
          "output_type": "stream",
          "name": "stdout",
          "text": [
            "+---------------+--------------------+--------------+--------------+-------------------+------------------+---------------------+-----------------------------+------------------+-----------+\n",
            "|   airline_name|             content|   cabin_flown|overall_rating|seat_comfort_rating|cabin_staff_rating|food_beverages_rating|inflight_entertainment_rating|value_money_rating|recommended|\n",
            "+---------------+--------------------+--------------+--------------+-------------------+------------------+---------------------+-----------------------------+------------------+-----------+\n",
            "|  adria-airways|Outbound flight F...|       Economy|             7|                  4|                 4|                    4|                            0|                 4|          1|\n",
            "|  adria-airways|Two short hops ZR...|Business Class|            10|                  4|                 5|                    4|                            1|                 5|          1|\n",
            "|  adria-airways|Flew Zurich-Ljubl...|       Economy|             9|                  5|                 5|                    4|                            0|                 5|          1|\n",
            "|  adria-airways|Adria serves this...|Business Class|             8|                  4|                 4|                    3|                            1|                 4|          1|\n",
            "|  adria-airways|\"WAW-SKJ Economy....|       Economy|             4|                  4|                 2|                    1|                            2|                 2|          0|\n",
            "|  adria-airways|Sarajevo-Frankfur...|       Economy|             9|                  4|                 4|                    3|                            3|                 4|          1|\n",
            "|  adria-airways|I had flights fro...|       Economy|             5|                  4|                 4|                    1|                            0|                 3|          1|\n",
            "|  adria-airways|LJU to FRA and ba...|       Economy|             9|                  5|                 5|                    4|                            3|                 4|          1|\n",
            "|  adria-airways|On my Ljubljana -...|Business Class|             8|                  4|                 3|                    4|                            1|                 4|          1|\n",
            "|  adria-airways|Flights from LJU ...|       Economy|            10|                  5|                 5|                    4|                            4|                 4|          1|\n",
            "|  adria-airways|I was very satisf...|       Economy|             9|                  4|                 4|                    4|                            4|                 4|          1|\n",
            "|  adria-airways|I was on JP650 th...|       Economy|             7|                  4|                 5|                    3|                            3|                 5|          1|\n",
            "|  adria-airways|VIE-LJU LJU-MUC A...|       Economy|             8|                  4|                 4|                    4|                            0|                 4|          1|\n",
            "|  adria-airways|If I have to fly ...|Business Class|             7|                  3|                 3|                    4|                            1|                 4|          1|\n",
            "|  adria-airways|Istanbul-Ljubljan...|Business Class|             7|                  2|                 5|                    4|                            0|                 4|          1|\n",
            "|  adria-airways|Return flight Par...|       Economy|             5|                  4|                 4|                    1|                            0|                 4|          1|\n",
            "|  adria-airways|BEG-LJU-BEG with ...|       Economy|             9|                  4|                 5|                    4|                            0|                 2|          1|\n",
            "|aegean-airlines|Flight on time, r...|Business Class|             8|                  4|                 5|                    4|                            2|                 4|          1|\n",
            "|aegean-airlines|We flew on flight...|       Economy|             9|                  4|                 5|                    3|                            2|                 5|          1|\n",
            "|aegean-airlines|Multiple trip wit...|       Economy|            10|                  5|                 5|                    4|                            3|                 4|          1|\n",
            "+---------------+--------------------+--------------+--------------+-------------------+------------------+---------------------+-----------------------------+------------------+-----------+\n",
            "only showing top 20 rows\n",
            "\n"
          ]
        }
      ],
      "source": [
        "data=data.withColumn('overall_rating',col('overall_rating').cast(IntegerType()))\n",
        "data=data.withColumn('seat_comfort_rating',col('seat_comfort_rating').cast(IntegerType()))\n",
        "data=data.withColumn('cabin_staff_rating',col('cabin_staff_rating').cast(IntegerType()))\n",
        "data=data.withColumn('food_beverages_rating',col('food_beverages_rating').cast(IntegerType()))\n",
        "data=data.withColumn('inflight_entertainment_rating',col('inflight_entertainment_rating').cast(IntegerType()))\n",
        "data=data.withColumn('value_money_rating',col('value_money_rating').cast(IntegerType()))\n",
        "data=data.withColumn('recommended',col('recommended').cast(IntegerType()))\n",
        "data=data.na.drop()\n",
        "data.show()"
      ]
    },
    {
      "cell_type": "code",
      "execution_count": 151,
      "metadata": {
        "id": "ITXL3bTiMbo8"
      },
      "outputs": [],
      "source": [
        "# Data Split\n",
        "airline=data.select('airline_name')\n",
        "review_data=data.select(['content','recommended'])\n",
        "rating_data=data.select(['cabin_flown','overall_rating','seat_comfort_rating','cabin_staff_rating','food_beverages_rating','inflight_entertainment_rating','value_money_rating','recommended'])"
      ]
    },
    {
      "cell_type": "code",
      "execution_count": 152,
      "metadata": {
        "colab": {
          "base_uri": "https://localhost:8080/"
        },
        "id": "Bp9UHs6ZRX_x",
        "outputId": "de1a63ed-3a3b-4a9e-96f5-3088f7fb6626"
      },
      "outputs": [
        {
          "output_type": "stream",
          "name": "stdout",
          "text": [
            "+---------------+\n",
            "|   airline_name|\n",
            "+---------------+\n",
            "|  adria-airways|\n",
            "|  adria-airways|\n",
            "|  adria-airways|\n",
            "|  adria-airways|\n",
            "|  adria-airways|\n",
            "|  adria-airways|\n",
            "|  adria-airways|\n",
            "|  adria-airways|\n",
            "|  adria-airways|\n",
            "|  adria-airways|\n",
            "|  adria-airways|\n",
            "|  adria-airways|\n",
            "|  adria-airways|\n",
            "|  adria-airways|\n",
            "|  adria-airways|\n",
            "|  adria-airways|\n",
            "|  adria-airways|\n",
            "|aegean-airlines|\n",
            "|aegean-airlines|\n",
            "|aegean-airlines|\n",
            "+---------------+\n",
            "only showing top 20 rows\n",
            "\n"
          ]
        }
      ],
      "source": [
        "airline.show()"
      ]
    },
    {
      "cell_type": "code",
      "execution_count": 153,
      "metadata": {
        "colab": {
          "base_uri": "https://localhost:8080/"
        },
        "id": "oJ7yADypQvP1",
        "outputId": "78f06fe2-1e3c-4db8-99e8-9805eaf90f6f"
      },
      "outputs": [
        {
          "output_type": "stream",
          "name": "stdout",
          "text": [
            "+--------------------+-----------+\n",
            "|             content|recommended|\n",
            "+--------------------+-----------+\n",
            "|Outbound flight F...|          1|\n",
            "|Two short hops ZR...|          1|\n",
            "|Flew Zurich-Ljubl...|          1|\n",
            "|Adria serves this...|          1|\n",
            "|\"WAW-SKJ Economy....|          0|\n",
            "|Sarajevo-Frankfur...|          1|\n",
            "|I had flights fro...|          1|\n",
            "|LJU to FRA and ba...|          1|\n",
            "|On my Ljubljana -...|          1|\n",
            "|Flights from LJU ...|          1|\n",
            "|I was very satisf...|          1|\n",
            "|I was on JP650 th...|          1|\n",
            "|VIE-LJU LJU-MUC A...|          1|\n",
            "|If I have to fly ...|          1|\n",
            "|Istanbul-Ljubljan...|          1|\n",
            "|Return flight Par...|          1|\n",
            "|BEG-LJU-BEG with ...|          1|\n",
            "|Flight on time, r...|          1|\n",
            "|We flew on flight...|          1|\n",
            "|Multiple trip wit...|          1|\n",
            "+--------------------+-----------+\n",
            "only showing top 20 rows\n",
            "\n"
          ]
        }
      ],
      "source": [
        "review_data.show()"
      ]
    },
    {
      "cell_type": "code",
      "execution_count": 154,
      "metadata": {
        "colab": {
          "base_uri": "https://localhost:8080/"
        },
        "id": "ZObbsBoiQlkz",
        "outputId": "ea76d4e2-ffb3-4e08-8fce-47aaa78b4fdb"
      },
      "outputs": [
        {
          "output_type": "stream",
          "name": "stdout",
          "text": [
            "+--------------+--------------+-------------------+------------------+---------------------+-----------------------------+------------------+-----------+\n",
            "|   cabin_flown|overall_rating|seat_comfort_rating|cabin_staff_rating|food_beverages_rating|inflight_entertainment_rating|value_money_rating|recommended|\n",
            "+--------------+--------------+-------------------+------------------+---------------------+-----------------------------+------------------+-----------+\n",
            "|       Economy|             7|                  4|                 4|                    4|                            0|                 4|          1|\n",
            "|Business Class|            10|                  4|                 5|                    4|                            1|                 5|          1|\n",
            "|       Economy|             9|                  5|                 5|                    4|                            0|                 5|          1|\n",
            "|Business Class|             8|                  4|                 4|                    3|                            1|                 4|          1|\n",
            "|       Economy|             4|                  4|                 2|                    1|                            2|                 2|          0|\n",
            "|       Economy|             9|                  4|                 4|                    3|                            3|                 4|          1|\n",
            "|       Economy|             5|                  4|                 4|                    1|                            0|                 3|          1|\n",
            "|       Economy|             9|                  5|                 5|                    4|                            3|                 4|          1|\n",
            "|Business Class|             8|                  4|                 3|                    4|                            1|                 4|          1|\n",
            "|       Economy|            10|                  5|                 5|                    4|                            4|                 4|          1|\n",
            "|       Economy|             9|                  4|                 4|                    4|                            4|                 4|          1|\n",
            "|       Economy|             7|                  4|                 5|                    3|                            3|                 5|          1|\n",
            "|       Economy|             8|                  4|                 4|                    4|                            0|                 4|          1|\n",
            "|Business Class|             7|                  3|                 3|                    4|                            1|                 4|          1|\n",
            "|Business Class|             7|                  2|                 5|                    4|                            0|                 4|          1|\n",
            "|       Economy|             5|                  4|                 4|                    1|                            0|                 4|          1|\n",
            "|       Economy|             9|                  4|                 5|                    4|                            0|                 2|          1|\n",
            "|Business Class|             8|                  4|                 5|                    4|                            2|                 4|          1|\n",
            "|       Economy|             9|                  4|                 5|                    3|                            2|                 5|          1|\n",
            "|       Economy|            10|                  5|                 5|                    4|                            3|                 4|          1|\n",
            "+--------------+--------------+-------------------+------------------+---------------------+-----------------------------+------------------+-----------+\n",
            "only showing top 20 rows\n",
            "\n"
          ]
        }
      ],
      "source": [
        "rating_data.show()"
      ]
    },
    {
      "cell_type": "code",
      "execution_count": 155,
      "metadata": {
        "colab": {
          "base_uri": "https://localhost:8080/"
        },
        "id": "9CjUGm6KRldf",
        "outputId": "9b135db2-66be-461f-8d67-8ccd934f3b2b"
      },
      "outputs": [
        {
          "output_type": "stream",
          "name": "stdout",
          "text": [
            "+-----------+--------------+-------------------+------------------+---------------------+-----------------------------+------------------+-----------+\n",
            "|cabin_flown|overall_rating|seat_comfort_rating|cabin_staff_rating|food_beverages_rating|inflight_entertainment_rating|value_money_rating|recommended|\n",
            "+-----------+--------------+-------------------+------------------+---------------------+-----------------------------+------------------+-----------+\n",
            "|          0|             7|                  4|                 4|                    4|                            0|                 4|          1|\n",
            "|          1|            10|                  4|                 5|                    4|                            1|                 5|          1|\n",
            "|          0|             9|                  5|                 5|                    4|                            0|                 5|          1|\n",
            "|          1|             8|                  4|                 4|                    3|                            1|                 4|          1|\n",
            "|          0|             4|                  4|                 2|                    1|                            2|                 2|          0|\n",
            "|          0|             9|                  4|                 4|                    3|                            3|                 4|          1|\n",
            "|          0|             5|                  4|                 4|                    1|                            0|                 3|          1|\n",
            "|          0|             9|                  5|                 5|                    4|                            3|                 4|          1|\n",
            "|          1|             8|                  4|                 3|                    4|                            1|                 4|          1|\n",
            "|          0|            10|                  5|                 5|                    4|                            4|                 4|          1|\n",
            "|          0|             9|                  4|                 4|                    4|                            4|                 4|          1|\n",
            "|          0|             7|                  4|                 5|                    3|                            3|                 5|          1|\n",
            "|          0|             8|                  4|                 4|                    4|                            0|                 4|          1|\n",
            "|          1|             7|                  3|                 3|                    4|                            1|                 4|          1|\n",
            "|          1|             7|                  2|                 5|                    4|                            0|                 4|          1|\n",
            "|          0|             5|                  4|                 4|                    1|                            0|                 4|          1|\n",
            "|          0|             9|                  4|                 5|                    4|                            0|                 2|          1|\n",
            "|          1|             8|                  4|                 5|                    4|                            2|                 4|          1|\n",
            "|          0|             9|                  4|                 5|                    3|                            2|                 5|          1|\n",
            "|          0|            10|                  5|                 5|                    4|                            3|                 4|          1|\n",
            "+-----------+--------------+-------------------+------------------+---------------------+-----------------------------+------------------+-----------+\n",
            "only showing top 20 rows\n",
            "\n"
          ]
        }
      ],
      "source": [
        "rating_data=rating_data.withColumn('cabin_flown',when(rating_data.cabin_flown=='Economy',lit(0)).otherwise(lit(1)))\n",
        "rating_data=rating_data.withColumn('recommended',col('recommended').cast(StringType()))\n",
        "rating_data.show()"
      ]
    },
    {
      "cell_type": "markdown",
      "source": [
        "# **NLP**"
      ],
      "metadata": {
        "id": "slEGWAB4dEbv"
      }
    },
    {
      "cell_type": "code",
      "source": [
        "def cross_validator_results(model,train_data,test_data):\n",
        "  \n",
        "  # Building a parameter grid\n",
        "  grid=ParamGridBuilder().addGrid(model.maxIter,[0,1]).build()\n",
        "\n",
        "  # Building a cross validator and fitting the training data\n",
        "  cv=CrossValidator(estimator=model,estimatorParamMaps=grid,evaluator=BinaryClassificationEvaluator())\n",
        "  cvModel=cv.fit(train_data)\n",
        "\n",
        "  #Predictiion upon the testing data \n",
        "  predictions=cvModel.transform(test_data)\n",
        "  \n",
        "  return predictions"
      ],
      "metadata": {
        "id": "kdh3SMzXA45S"
      },
      "execution_count": 156,
      "outputs": []
    },
    {
      "cell_type": "markdown",
      "source": [
        "## **For Reviews**"
      ],
      "metadata": {
        "id": "e9DTwG2AdIa3"
      }
    },
    {
      "cell_type": "code",
      "source": [
        "# Creating a pipeline: \n",
        "def nlp_dataset_creation(data):\n",
        "\n",
        "  data=data.withColumn('recommended',col('recommended').cast(StringType()))\n",
        "\n",
        "  # Tokenizing using Regular Expression\n",
        "  tokenize=RegexTokenizer(inputCol='content',outputCol='words',pattern='\\w')\n",
        "\n",
        "  # Removing the stop words\n",
        "  stop_words=['a','the','an','is','at','on','in','.','!','$','%','&','(',')',',',' ','http','https','amp','rt','t','c']\n",
        "  remove_stop_words=StopWordsRemover(inputCol='words',outputCol='filteredWords').setStopWords(stop_words)\n",
        "\n",
        "  # Using TFID Vectorizer\n",
        "  tf=HashingTF(inputCol='filteredWords',outputCol='rawFeatures')\n",
        "  idf=IDF(inputCol='rawFeatures',outputCol='features')\n",
        "\n",
        "  # Creating Labels\n",
        "  label=StringIndexer(inputCol='recommended',outputCol='label')\n",
        "\n",
        "  # Pipeline\n",
        "  pipeline=Pipeline(stages=[tokenize,remove_stop_words,tf,idf,label])\n",
        "  fit=pipeline.fit(data)\n",
        "  dataset=fit.transform(data)\n",
        "  return dataset"
      ],
      "metadata": {
        "id": "4P_erB3J0bSZ"
      },
      "execution_count": 157,
      "outputs": []
    },
    {
      "cell_type": "code",
      "source": [
        "nlp_dataset=nlp_dataset_creation(review_data)\n",
        "nlp_dataset.show()"
      ],
      "metadata": {
        "colab": {
          "base_uri": "https://localhost:8080/"
        },
        "id": "ebSKFBlAeyAL",
        "outputId": "4efb51fc-96ed-4b30-f8a5-1c42547e61eb"
      },
      "execution_count": 158,
      "outputs": [
        {
          "output_type": "stream",
          "name": "stdout",
          "text": [
            "+--------------------+-----------+--------------------+--------------------+--------------------+--------------------+-----+\n",
            "|             content|recommended|               words|       filteredWords|         rawFeatures|            features|label|\n",
            "+--------------------+-----------+--------------------+--------------------+--------------------+--------------------+-----+\n",
            "|Outbound flight F...|          1|[ ,  , /,  , . , ...|[/, . , . , /, . ...|(262144,[182899,1...|(262144,[182899,1...|  0.0|\n",
            "|Two short hops ZR...|          1|[ ,  ,  , -,  ,  ...|  [-, -, . , . , . ]|(262144,[38640,18...|(262144,[38640,18...|  0.0|\n",
            "|Flew Zurich-Ljubl...|          1|[ , -,  ,  ,  ,  ...| [-, . , . , . , . ]|(262144,[38640,18...|(262144,[38640,18...|  0.0|\n",
            "|Adria serves this...|          1|[ ,  ,  ,  ,  ,  ...| [. , . , . , . , ']|(262144,[182899,1...|(262144,[182899,1...|  0.0|\n",
            "|\"WAW-SKJ Economy....|          0|[\", -,  , . ,  , ...|[\", -, . , . , . ...|(262144,[38640,77...|(262144,[38640,77...|  1.0|\n",
            "|Sarajevo-Frankfur...|          1|[-,  ,  , . ,  , ...|[-, . , . , . , ....|(262144,[38640,18...|(262144,[38640,18...|  0.0|\n",
            "|I had flights fro...|          1|[ ,  ,  ,  ,  ,  ...|[. , . , . , -, ....|(262144,[38640,18...|(262144,[38640,18...|  0.0|\n",
            "|LJU to FRA and ba...|          1|[ ,  ,  ,  ,  ,  ...| [. , . , . , . , ']|(262144,[182899,1...|(262144,[182899,1...|  0.0|\n",
            "|On my Ljubljana -...|          1|[ ,  ,  - ,  ,  ,...|[ - , -, . , ', ....|(262144,[38640,10...|(262144,[38640,10...|  0.0|\n",
            "|Flights from LJU ...|          1|[ ,  ,  ,  ,  ,  ...|     [. , ', . , . ]|(262144,[182899,1...|(262144,[182899,1...|  0.0|\n",
            "|I was very satisf...|          1|[ ,  ,  ,  ,  ,  ...|         [. , ', . ]|(262144,[182899,1...|(262144,[182899,1...|  0.0|\n",
            "|I was on JP650 th...|          1|[ ,  ,  ,  ,  ,  ...|[. , . , . , . , ...|(262144,[182899,1...|(262144,[182899,1...|  0.0|\n",
            "|VIE-LJU LJU-MUC A...|          1|[-,  , -,  ,  , -...|[-, -, -, . , . ,...|(262144,[38640,44...|(262144,[38640,44...|  0.0|\n",
            "|If I have to fly ...|          1|[ ,  ,  ,  ,  ,  ...|         [', . , . ]|(262144,[182899,1...|(262144,[182899,1...|  0.0|\n",
            "|Istanbul-Ljubljan...|          1|[-, -,  ,  , . , ...|[-, -, . , -, . ,...|(262144,[38640,18...|(262144,[38640,18...|  0.0|\n",
            "|Return flight Par...|          1|[ ,  , -,  ,  , ....|[-, . ,  / , . , ...|(262144,[38640,18...|(262144,[38640,18...|  0.0|\n",
            "|BEG-LJU-BEG with ...|          1|[-, -,  ,  ,  ,  ...|  [-, -, . , . , . ]|(262144,[38640,18...|(262144,[38640,18...|  0.0|\n",
            "|Flight on time, r...|          1|[ ,  , , ,  ,  - ...|[, ,  - , , , . ,...|(262144,[19861,10...|(262144,[19861,10...|  0.0|\n",
            "|We flew on flight...|          1|[ ,  ,  ,  ,  ,  ...|[. , , , , , . , . ]|(262144,[182899,2...|(262144,[182899,2...|  0.0|\n",
            "|Multiple trip wit...|          1|[ ,  ,  ,  ,  , -...|  [-, . , ', . , . ]|(262144,[38640,18...|(262144,[38640,18...|  0.0|\n",
            "+--------------------+-----------+--------------------+--------------------+--------------------+--------------------+-----+\n",
            "only showing top 20 rows\n",
            "\n"
          ]
        }
      ]
    },
    {
      "cell_type": "code",
      "source": [
        "# Data Split\n",
        "(training_data,testing_data)=nlp_dataset.randomSplit([0.8,0.2],seed=100)\n",
        "training_data.show()"
      ],
      "metadata": {
        "colab": {
          "base_uri": "https://localhost:8080/"
        },
        "id": "An3aeKgshU52",
        "outputId": "03151a4f-012f-49f4-93f0-2f3eea162938"
      },
      "execution_count": 159,
      "outputs": [
        {
          "output_type": "stream",
          "name": "stdout",
          "text": [
            "+--------------------+-----------+--------------------+--------------------+--------------------+--------------------+-----+\n",
            "|             content|recommended|               words|       filteredWords|         rawFeatures|            features|label|\n",
            "+--------------------+-----------+--------------------+--------------------+--------------------+--------------------+-----+\n",
            "| I fly up to Lisb...|          0|[ ,  ,  ,  ,  ,  ...|[  , . , ', . , '...|(262144,[36696,38...|(262144,[36696,38...|  1.0|\n",
            "| The aircraft was...|          1|[ ,  ,  ,  ,  ,  ...|   [. ,  - , . , . ]|(262144,[106237,1...|(262144,[106237,1...|  0.0|\n",
            "| it took 3 attemp...|          0|[ ,  ,  ,  ,  ,  ...|               [. \"]|(262144,[89746],[...|(262144,[89746],[...|  1.0|\n",
            "|\"(YVR-YYC: Vancou...|          0|[\"(, -, : ,  ,  ,...|[\"(, -, : , -, /,...|(262144,[38640,44...|(262144,[38640,44...|  1.0|\n",
            "|\"09/09/14 VS016 f...|          0|[\", /, /,  ,  ,  ...|[\", /, /,  (, ). ...|(262144,[44646,72...|(262144,[44646,72...|  1.0|\n",
            "|\"1 Aug 2014 NH10 ...|          1|[\",  ,  ,  ,  ,  ...|[\", . , . , ', -,...|(262144,[38640,44...|(262144,[38640,44...|  0.0|\n",
            "|\"1.5 hours late d...|          0|[\", .,  ,  ,  ,  ...|[\",  - , . , -, ....|(262144,[38640,77...|(262144,[38640,77...|  1.0|\n",
            "|\"10 April 2015 Ai...|          0|[\",  ,  ,  ,  ,  ...|[\", . , . ,  \"\", ...|(262144,[38640,90...|(262144,[38640,90...|  1.0|\n",
            "|\"10th August 2014...|          0|[\",  ,  ,  ,  ,  ...|[\",  (, ) ,  (, )...|(262144,[44646,90...|(262144,[44646,90...|  1.0|\n",
            "|\"11th April SU026...|          0|[\",  ,  ,  , -, ....|[\", -, . , -, . ,...|(262144,[38640,90...|(262144,[38640,90...|  1.0|\n",
            "|\"12th Nov 2014. F...|          1|[\",  ,  , . , : ,...|[\", . , : ,  (, )...|(262144,[38640,44...|(262144,[38640,44...|  0.0|\n",
            "|\"13 April 2014. A...|          0|[\",  ,  , . ,  , ...|[\", . , . , . , ....|(262144,[44504,77...|(262144,[44504,77...|  1.0|\n",
            "|\"17 Nov. Xian Hon...|          1|[\",  , . ,  ,  , ...|[\", . , . , . ,  ...|(262144,[38640,44...|(262144,[38640,44...|  0.0|\n",
            "|\"18 June Buchares...|          1|[\",  ,  ,  - ,  -...|[\",  - ,  - , . ,...|(262144,[38640,44...|(262144,[38640,44...|  0.0|\n",
            "|\"19 April KWI-LHR...|          1|[\",  ,  , -,  , ....|[\", -, . , -, . ,...|(262144,[38640,44...|(262144,[38640,44...|  0.0|\n",
            "|\"19 Nov 2013 AKL-...|          0|[\",  ,  ,  , -,  ...|[\", -, . , -, . ,...|(262144,[38640,90...|(262144,[38640,90...|  1.0|\n",
            "|\"19th August GLA-...|          1|[\",  ,  , -,  , -...|[\", -, -, . ,  (,...|(262144,[38640,44...|(262144,[38640,44...|  0.0|\n",
            "|\"2 recent flights...|          0|[\",  ,  ,  ,  ,  ...|[\",  (, ) - ,  (,...|(262144,[36699,38...|(262144,[36699,38...|  1.0|\n",
            "|\"2.5 hours waitin...|          0|[\", .,  ,  ,  ,  ...|[\", , ,  \"\", \"\". ...|(262144,[77345,13...|(262144,[77345,13...|  1.0|\n",
            "|\"2013 Christmas V...|          1|[\",  ,  ,  ,  ,  ...|[\", . , . , . , ....|(262144,[44504,13...|(262144,[44504,13...|  0.0|\n",
            "+--------------------+-----------+--------------------+--------------------+--------------------+--------------------+-----+\n",
            "only showing top 20 rows\n",
            "\n"
          ]
        }
      ]
    },
    {
      "cell_type": "code",
      "source": [
        "logReg=LogisticRegression(maxIter=20,elasticNetParam=0,regParam=0.3)"
      ],
      "metadata": {
        "id": "o_N5PITnXr8D"
      },
      "execution_count": 160,
      "outputs": []
    },
    {
      "cell_type": "code",
      "source": [
        "# Logistic Regression Model\n",
        "predictions_logReg_nlp=cross_validator_results(logReg,training_data,testing_data)\n",
        "predictions_logReg_nlp.show()"
      ],
      "metadata": {
        "id": "YNxwa0IbhzCz",
        "colab": {
          "base_uri": "https://localhost:8080/"
        },
        "outputId": "78499ba4-c4a5-4dc2-ea4c-f27c2548f1e9"
      },
      "execution_count": 161,
      "outputs": [
        {
          "output_type": "stream",
          "name": "stdout",
          "text": [
            "+--------------------+-----------+--------------------+--------------------+--------------------+--------------------+-----+--------------------+--------------------+----------+\n",
            "|             content|recommended|               words|       filteredWords|         rawFeatures|            features|label|       rawPrediction|         probability|prediction|\n",
            "+--------------------+-----------+--------------------+--------------------+--------------------+--------------------+-----+--------------------+--------------------+----------+\n",
            "|\"(LAX to LHR on U...|          1|[\"(,  ,  ,  ,  , ...|[\"(, ) , -,  (, )...|(262144,[38640,44...|(262144,[38640,44...|  0.0|[-1.0574592825088...|[0.25779528841848...|       1.0|\n",
            "|\"11/11/2013 my co...|          1|[\", /, /,  ,  ,  ...|[\", /, /, . , . ,...|(262144,[6447,446...|(262144,[6447,446...|  0.0|[-0.3776523974061...|[0.40669323481348...|       1.0|\n",
            "|\"13-16 Sep 2013 E...|          0|[\", -,  ,  ,  ,  ...|[\", -, . , . ,  \"...|(262144,[38640,90...|(262144,[38640,90...|  1.0|[-0.2193396029933...|[0.44538388834372...|       1.0|\n",
            "|\"2 days ago I was...|          0|[\",  ,  ,  ,  ,  ...|[\", . , . , . , ....|(262144,[77345,10...|(262144,[77345,10...|  1.0|[-0.4798733125660...|[0.38228204106968...|       1.0|\n",
            "|\"25th April 2015 ...|          0|[\",  ,  ,  ,  (, ...|[\",  (, ) , . ,  ...|(262144,[44646,90...|(262144,[44646,90...|  1.0|[-0.5160414869647...|[0.37377833133952...|       1.0|\n",
            "|\"3 flights London...|          1|[\",  ,  ,  ,  - ,...|[\",  - ,  - ,  - ...|(262144,[38640,44...|(262144,[38640,44...|  0.0|[-0.5132700315418...|[0.37442726721176...|       1.0|\n",
            "|\"4 flight sectors...|          1|[\",  ,  ,  , : , ...|[\", : , -, -, -, ...|(262144,[38640,44...|(262144,[38640,44...|  0.0|[-0.7910710497388...|[0.31193874054754...|       1.0|\n",
            "|\"4 flights on Eth...|          1|[\",  ,  ,  ,  , ....|[\", . , . , . , '...|(262144,[90318,10...|(262144,[90318,10...|  0.0|[-0.3006549047139...|[0.42539739409816...|       1.0|\n",
            "|\"5 hours delay du...|          0|[\",  ,  ,  ,  ,  ...|[\",  \"\", \"\" , ', ...|(262144,[90318,13...|(262144,[90318,13...|  1.0|[-0.2445575172425...|[0.43916352976685...|       1.0|\n",
            "|\"5J142 MNL-HKG. O...|          1|[\",  , -, . ,  , ...|[\", -, . , -, . ,...|(262144,[38640,44...|(262144,[38640,44...|  0.0|[-0.7163827474491...|[0.32819002337876...|       1.0|\n",
            "|\"6 April 2014. AG...|          1|[\",  ,  , . , -, ...|[\", . , -, -, . ,...|(262144,[38640,88...|(262144,[38640,88...|  0.0|[-0.4379969127249...|[0.39221836821927...|       1.0|\n",
            "|\"7 Feb 2015 MAN-A...|          0|[\",  ,  ,  , -,  ...|[\", -, . , -, . ,...|(262144,[33439,38...|(262144,[33439,38...|  1.0|[-0.6162419915494...|[0.35063663354012...|       1.0|\n",
            "|\"A new expression...|          0|[\",  ,  ,  ,  ,  ...|[\", ! \"\",  \"\", \"\"...|(262144,[38640,44...|(262144,[38640,44...|  1.0|[-1.3552813729310...|[0.20500827315615...|       1.0|\n",
            "|\"A340 on TAP is b...|          0|[\",  ,  ,  ,  ,  ...|[\", , , . , . , ....|(262144,[90318,13...|(262144,[90318,13...|  1.0|[-0.2971978482342...|[0.42624263495191...|       1.0|\n",
            "|\"AA104 JFK-LHR 20...|          1|[\",  , -,  ,  ,  ...|[\", -,  - ,  \"\", ...|(262144,[38640,44...|(262144,[38640,44...|  0.0|[-0.4675161857311...|[0.38520429736431...|       1.0|\n",
            "|\"AC138 Vancouver-...|          0|[\",  , -, . ,  , ...|[\", -, . , -, -, ...|(262144,[38640,44...|(262144,[38640,44...|  1.0|[-0.9650231915575...|[0.27587359628899...|       1.0|\n",
            "|\"AC1914 May 17 20...|          0|[\",  ,  ,  , . , ...|[\", . , . , . , ....|(262144,[6447,446...|(262144,[6447,446...|  1.0|[-0.8731918404183...|[0.29459058071953...|       1.0|\n",
            "|\"AF0111 Shanghai-...|          1|[\",  , -,  ,  ,  ...|[\", -,  - , . , ....|(262144,[38640,90...|(262144,[38640,90...|  0.0|[-0.4134082400360...|[0.39809517138295...|       1.0|\n",
            "|\"AKL-SYD-AKL twic...|          1|[\", -, -,  ,  ,  ...|[\", -, -, . , /, ...|(262144,[38640,44...|(262144,[38640,44...|  0.0|[-0.0540503278147...|[0.48649070676632...|       1.0|\n",
            "|\"ATH-CDG-LAX. ATH...|          1|[\", -, -, . , -, ...|[\", -, -, . , -, ...|(262144,[38640,44...|(262144,[38640,44...|  0.0|[-0.0816149916454...|[0.47960757034167...|       1.0|\n",
            "+--------------------+-----------+--------------------+--------------------+--------------------+--------------------+-----+--------------------+--------------------+----------+\n",
            "only showing top 20 rows\n",
            "\n"
          ]
        }
      ]
    },
    {
      "cell_type": "code",
      "source": [
        "evaluator=BinaryClassificationEvaluator(rawPredictionCol='prediction',labelCol='label')\n",
        "evaluator.evaluate(predictions_logReg_nlp)"
      ],
      "metadata": {
        "colab": {
          "base_uri": "https://localhost:8080/"
        },
        "id": "HnvTUBQdiYBS",
        "outputId": "6caf6d76-acca-4972-b41e-ef7968079826"
      },
      "execution_count": 162,
      "outputs": [
        {
          "output_type": "execute_result",
          "data": {
            "text/plain": [
              "0.5520061184178414"
            ]
          },
          "metadata": {},
          "execution_count": 162
        }
      ]
    },
    {
      "cell_type": "markdown",
      "source": [
        "## **For Ratings**"
      ],
      "metadata": {
        "id": "9pUths3WeLKG"
      }
    },
    {
      "cell_type": "code",
      "source": [
        "print(rating_data.columns)"
      ],
      "metadata": {
        "colab": {
          "base_uri": "https://localhost:8080/"
        },
        "id": "zJq4nfh-sKFO",
        "outputId": "d2c4e097-ab92-48e2-f32a-74408e9161a4"
      },
      "execution_count": 163,
      "outputs": [
        {
          "output_type": "stream",
          "name": "stdout",
          "text": [
            "['cabin_flown', 'overall_rating', 'seat_comfort_rating', 'cabin_staff_rating', 'food_beverages_rating', 'inflight_entertainment_rating', 'value_money_rating', 'recommended']\n"
          ]
        }
      ]
    },
    {
      "cell_type": "code",
      "source": [
        "def classification_data(data):\n",
        "  \n",
        "  # Casting recommended as string type\n",
        "  data=data.withColumn('recommended',col('recommended').cast(StringType()))\n",
        "\n",
        "  # Vectorizing the data\n",
        "  vec_transform=VectorAssembler().setInputCols(['cabin_flown', 'overall_rating', 'seat_comfort_rating', 'cabin_staff_rating', 'food_beverages_rating', 'inflight_entertainment_rating', 'value_money_rating']).setOutputCol('features')\n",
        "\n",
        "  # Setting the labels\n",
        "  labelIndexer=StringIndexer(inputCol='recommended',outputCol='label')\n",
        "\n",
        "  # Pipeline \n",
        "  pipeline=Pipeline(stages=[vec_transform,labelIndexer])\n",
        "  fit=pipeline.fit(data)\n",
        "  dataset=fit.transform(data)\n",
        "  return dataset\n",
        "  "
      ],
      "metadata": {
        "id": "Nw6bezRzeWf2"
      },
      "execution_count": 164,
      "outputs": []
    },
    {
      "cell_type": "code",
      "source": [
        "clDF=classification_data(rating_data)\n",
        "clDF.show()"
      ],
      "metadata": {
        "colab": {
          "base_uri": "https://localhost:8080/"
        },
        "id": "DzcqTmzCt5r-",
        "outputId": "076911a7-c9f1-4dfe-eb4d-49b3715514c2"
      },
      "execution_count": 165,
      "outputs": [
        {
          "output_type": "stream",
          "name": "stdout",
          "text": [
            "+-----------+--------------+-------------------+------------------+---------------------+-----------------------------+------------------+-----------+--------------------+-----+\n",
            "|cabin_flown|overall_rating|seat_comfort_rating|cabin_staff_rating|food_beverages_rating|inflight_entertainment_rating|value_money_rating|recommended|            features|label|\n",
            "+-----------+--------------+-------------------+------------------+---------------------+-----------------------------+------------------+-----------+--------------------+-----+\n",
            "|          0|             7|                  4|                 4|                    4|                            0|                 4|          1|[0.0,7.0,4.0,4.0,...|  0.0|\n",
            "|          1|            10|                  4|                 5|                    4|                            1|                 5|          1|[1.0,10.0,4.0,5.0...|  0.0|\n",
            "|          0|             9|                  5|                 5|                    4|                            0|                 5|          1|[0.0,9.0,5.0,5.0,...|  0.0|\n",
            "|          1|             8|                  4|                 4|                    3|                            1|                 4|          1|[1.0,8.0,4.0,4.0,...|  0.0|\n",
            "|          0|             4|                  4|                 2|                    1|                            2|                 2|          0|[0.0,4.0,4.0,2.0,...|  1.0|\n",
            "|          0|             9|                  4|                 4|                    3|                            3|                 4|          1|[0.0,9.0,4.0,4.0,...|  0.0|\n",
            "|          0|             5|                  4|                 4|                    1|                            0|                 3|          1|[0.0,5.0,4.0,4.0,...|  0.0|\n",
            "|          0|             9|                  5|                 5|                    4|                            3|                 4|          1|[0.0,9.0,5.0,5.0,...|  0.0|\n",
            "|          1|             8|                  4|                 3|                    4|                            1|                 4|          1|[1.0,8.0,4.0,3.0,...|  0.0|\n",
            "|          0|            10|                  5|                 5|                    4|                            4|                 4|          1|[0.0,10.0,5.0,5.0...|  0.0|\n",
            "|          0|             9|                  4|                 4|                    4|                            4|                 4|          1|[0.0,9.0,4.0,4.0,...|  0.0|\n",
            "|          0|             7|                  4|                 5|                    3|                            3|                 5|          1|[0.0,7.0,4.0,5.0,...|  0.0|\n",
            "|          0|             8|                  4|                 4|                    4|                            0|                 4|          1|[0.0,8.0,4.0,4.0,...|  0.0|\n",
            "|          1|             7|                  3|                 3|                    4|                            1|                 4|          1|[1.0,7.0,3.0,3.0,...|  0.0|\n",
            "|          1|             7|                  2|                 5|                    4|                            0|                 4|          1|[1.0,7.0,2.0,5.0,...|  0.0|\n",
            "|          0|             5|                  4|                 4|                    1|                            0|                 4|          1|[0.0,5.0,4.0,4.0,...|  0.0|\n",
            "|          0|             9|                  4|                 5|                    4|                            0|                 2|          1|[0.0,9.0,4.0,5.0,...|  0.0|\n",
            "|          1|             8|                  4|                 5|                    4|                            2|                 4|          1|[1.0,8.0,4.0,5.0,...|  0.0|\n",
            "|          0|             9|                  4|                 5|                    3|                            2|                 5|          1|[0.0,9.0,4.0,5.0,...|  0.0|\n",
            "|          0|            10|                  5|                 5|                    4|                            3|                 4|          1|[0.0,10.0,5.0,5.0...|  0.0|\n",
            "+-----------+--------------+-------------------+------------------+---------------------+-----------------------------+------------------+-----------+--------------------+-----+\n",
            "only showing top 20 rows\n",
            "\n"
          ]
        }
      ]
    },
    {
      "cell_type": "code",
      "source": [
        "# Data Split\n",
        "(training_data,testing_data)=clDF.randomSplit([0.8,0.2],seed=100)\n",
        "training_data.show()"
      ],
      "metadata": {
        "colab": {
          "base_uri": "https://localhost:8080/"
        },
        "id": "zxX91aM-9HOB",
        "outputId": "497057d2-6a25-4c63-fd7c-f0d897c094fc"
      },
      "execution_count": 166,
      "outputs": [
        {
          "output_type": "stream",
          "name": "stdout",
          "text": [
            "+-----------+--------------+-------------------+------------------+---------------------+-----------------------------+------------------+-----------+-------------+-----+\n",
            "|cabin_flown|overall_rating|seat_comfort_rating|cabin_staff_rating|food_beverages_rating|inflight_entertainment_rating|value_money_rating|recommended|     features|label|\n",
            "+-----------+--------------+-------------------+------------------+---------------------+-----------------------------+------------------+-----------+-------------+-----+\n",
            "|          0|             1|                  0|                 0|                    0|                            0|                 0|          0|(7,[1],[1.0])|  1.0|\n",
            "|          0|             1|                  0|                 0|                    0|                            0|                 0|          0|(7,[1],[1.0])|  1.0|\n",
            "|          0|             1|                  0|                 0|                    0|                            0|                 0|          0|(7,[1],[1.0])|  1.0|\n",
            "|          0|             1|                  0|                 0|                    0|                            0|                 0|          0|(7,[1],[1.0])|  1.0|\n",
            "|          0|             1|                  0|                 0|                    0|                            0|                 0|          0|(7,[1],[1.0])|  1.0|\n",
            "|          0|             1|                  0|                 0|                    0|                            0|                 0|          0|(7,[1],[1.0])|  1.0|\n",
            "|          0|             1|                  0|                 0|                    0|                            0|                 0|          0|(7,[1],[1.0])|  1.0|\n",
            "|          0|             1|                  0|                 0|                    0|                            0|                 0|          0|(7,[1],[1.0])|  1.0|\n",
            "|          0|             1|                  0|                 0|                    0|                            0|                 0|          0|(7,[1],[1.0])|  1.0|\n",
            "|          0|             1|                  0|                 0|                    0|                            0|                 0|          0|(7,[1],[1.0])|  1.0|\n",
            "|          0|             1|                  0|                 0|                    0|                            0|                 0|          0|(7,[1],[1.0])|  1.0|\n",
            "|          0|             1|                  0|                 0|                    0|                            0|                 0|          0|(7,[1],[1.0])|  1.0|\n",
            "|          0|             1|                  0|                 0|                    0|                            0|                 0|          0|(7,[1],[1.0])|  1.0|\n",
            "|          0|             1|                  0|                 0|                    0|                            0|                 0|          0|(7,[1],[1.0])|  1.0|\n",
            "|          0|             1|                  0|                 0|                    0|                            0|                 0|          0|(7,[1],[1.0])|  1.0|\n",
            "|          0|             1|                  0|                 0|                    0|                            0|                 0|          0|(7,[1],[1.0])|  1.0|\n",
            "|          0|             1|                  0|                 0|                    0|                            0|                 0|          0|(7,[1],[1.0])|  1.0|\n",
            "|          0|             1|                  0|                 0|                    0|                            0|                 0|          0|(7,[1],[1.0])|  1.0|\n",
            "|          0|             1|                  0|                 0|                    0|                            0|                 0|          0|(7,[1],[1.0])|  1.0|\n",
            "|          0|             1|                  0|                 0|                    0|                            0|                 0|          0|(7,[1],[1.0])|  1.0|\n",
            "+-----------+--------------+-------------------+------------------+---------------------+-----------------------------+------------------+-----------+-------------+-----+\n",
            "only showing top 20 rows\n",
            "\n"
          ]
        }
      ]
    },
    {
      "cell_type": "code",
      "source": [
        "# Logistic Regression Model\n",
        "logReg=LogisticRegression(maxIter=20,elasticNetParam=0,regParam=0.3)"
      ],
      "metadata": {
        "id": "wizNFjhV47gO"
      },
      "execution_count": 167,
      "outputs": []
    },
    {
      "cell_type": "code",
      "source": [
        "predictions_logReg=cross_validator_results(logReg,training_data,testing_data)\n",
        "predictions_logReg.show()"
      ],
      "metadata": {
        "colab": {
          "base_uri": "https://localhost:8080/"
        },
        "id": "64gXDka6-upy",
        "outputId": "92e14fc1-7d71-422e-b639-e0f8a9ac1cc5"
      },
      "execution_count": 168,
      "outputs": [
        {
          "output_type": "stream",
          "name": "stdout",
          "text": [
            "+-----------+--------------+-------------------+------------------+---------------------+-----------------------------+------------------+-----------+--------------------+-----+--------------------+--------------------+----------+\n",
            "|cabin_flown|overall_rating|seat_comfort_rating|cabin_staff_rating|food_beverages_rating|inflight_entertainment_rating|value_money_rating|recommended|            features|label|       rawPrediction|         probability|prediction|\n",
            "+-----------+--------------+-------------------+------------------+---------------------+-----------------------------+------------------+-----------+--------------------+-----+--------------------+--------------------+----------+\n",
            "|          0|             1|                  0|                 0|                    0|                            0|                 0|          0|       (7,[1],[1.0])|  1.0|[-4.5392448249160...|[0.01056858189912...|       1.0|\n",
            "|          0|             1|                  0|                 0|                    0|                            0|                 0|          0|       (7,[1],[1.0])|  1.0|[-4.5392448249160...|[0.01056858189912...|       1.0|\n",
            "|          0|             1|                  0|                 0|                    0|                            0|                 0|          0|       (7,[1],[1.0])|  1.0|[-4.5392448249160...|[0.01056858189912...|       1.0|\n",
            "|          0|             1|                  0|                 0|                    0|                            0|                 0|          0|       (7,[1],[1.0])|  1.0|[-4.5392448249160...|[0.01056858189912...|       1.0|\n",
            "|          0|             1|                  0|                 0|                    0|                            0|                 1|          0| (7,[1,6],[1.0,1.0])|  1.0|[-4.2172926180330...|[0.01452442512658...|       1.0|\n",
            "|          0|             1|                  0|                 0|                    1|                            1|                 2|          0|[0.0,1.0,0.0,0.0,...|  1.0|[-3.5351360143178...|[0.02832886898892...|       1.0|\n",
            "|          0|             1|                  0|                 1|                    0|                            0|                 1|          0|(7,[1,3,6],[1.0,1...|  1.0|[-3.9255448220876...|[0.01934958966772...|       1.0|\n",
            "|          0|             1|                  0|                 1|                    0|                            0|                 1|          0|(7,[1,3,6],[1.0,1...|  1.0|[-3.9255448220876...|[0.01934958966772...|       1.0|\n",
            "|          0|             1|                  0|                 1|                    0|                            0|                 1|          0|(7,[1,3,6],[1.0,1...|  1.0|[-3.9255448220876...|[0.01934958966772...|       1.0|\n",
            "|          0|             1|                  0|                 1|                    0|                            0|                 1|          0|(7,[1,3,6],[1.0,1...|  1.0|[-3.9255448220876...|[0.01934958966772...|       1.0|\n",
            "|          0|             1|                  0|                 1|                    0|                            0|                 2|          0|(7,[1,3,6],[1.0,1...|  1.0|[-3.6035926152046...|[0.02650414025019...|       1.0|\n",
            "|          0|             1|                  0|                 1|                    0|                            0|                 3|          0|(7,[1,3,6],[1.0,1...|  1.0|[-3.2816404083216...|[0.03620642989482...|       1.0|\n",
            "|          0|             1|                  0|                 2|                    0|                            0|                 1|          0|(7,[1,3,6],[1.0,2...|  1.0|[-3.6337970261423...|[0.02573586204671...|       1.0|\n",
            "|          0|             1|                  1|                 0|                    0|                            0|                 0|          0| (7,[1,2],[1.0,1.0])|  1.0|[-4.2501691250893...|[0.01406128217429...|       1.0|\n",
            "|          0|             1|                  1|                 0|                    0|                            0|                 1|          0|(7,[1,2,6],[1.0,1...|  1.0|[-3.9282169182063...|[0.01929895122207...|       1.0|\n",
            "|          0|             1|                  1|                 1|                    0|                            0|                 1|          0|[0.0,1.0,1.0,1.0,...|  1.0|[-3.6364691222609...|[0.02566894800992...|       1.0|\n",
            "|          0|             1|                  1|                 1|                    0|                            0|                 3|          0|[0.0,1.0,1.0,1.0,...|  1.0|[-2.9925647084949...|[0.04776290738623...|       1.0|\n",
            "|          0|             1|                  1|                 1|                    0|                            1|                 3|          0|[0.0,1.0,1.0,1.0,...|  1.0|[-2.8619724090207...|[0.05406573751875...|       1.0|\n",
            "|          0|             1|                  1|                 1|                    1|                            0|                 1|          0|[0.0,1.0,1.0,1.0,...|  1.0|[-3.4068570249029...|[0.03208185165661...|       1.0|\n",
            "|          0|             1|                  1|                 1|                    1|                            0|                 2|          0|[0.0,1.0,1.0,1.0,...|  1.0|[-3.0849048180198...|[0.04373422865366...|       1.0|\n",
            "+-----------+--------------+-------------------+------------------+---------------------+-----------------------------+------------------+-----------+--------------------+-----+--------------------+--------------------+----------+\n",
            "only showing top 20 rows\n",
            "\n"
          ]
        }
      ]
    },
    {
      "cell_type": "code",
      "source": [
        "evaluator=BinaryClassificationEvaluator(rawPredictionCol='prediction',labelCol='label')\n",
        "evaluator.evaluate(predictions_logReg)"
      ],
      "metadata": {
        "colab": {
          "base_uri": "https://localhost:8080/"
        },
        "id": "lPZYx2UD9j0x",
        "outputId": "e4f604c3-885a-4210-db1d-a83c42207f6c"
      },
      "execution_count": 169,
      "outputs": [
        {
          "output_type": "execute_result",
          "data": {
            "text/plain": [
              "0.9290076390683782"
            ]
          },
          "metadata": {},
          "execution_count": 169
        }
      ]
    },
    {
      "cell_type": "markdown",
      "source": [
        "## **Random Forest Classifier**"
      ],
      "metadata": {
        "id": "7L1gvurMnkoG"
      }
    },
    {
      "cell_type": "code",
      "source": [
        "rf = RandomForestClassifier(featuresCol='features',labelCol='label')\n",
        "rfModel = rf.fit(training_data)\n",
        "predictions = rfModel.transform(testing_data)"
      ],
      "metadata": {
        "id": "7f-rJw1Onp8z"
      },
      "execution_count": 170,
      "outputs": []
    },
    {
      "cell_type": "code",
      "source": [
        "evaluator=BinaryClassificationEvaluator(rawPredictionCol='prediction',labelCol='label')\n",
        "evaluator.evaluate(predictions)"
      ],
      "metadata": {
        "colab": {
          "base_uri": "https://localhost:8080/"
        },
        "id": "jw6oBe7NqtM8",
        "outputId": "51d1d4cc-3cfd-4d8b-9256-935714850376"
      },
      "execution_count": 171,
      "outputs": [
        {
          "output_type": "execute_result",
          "data": {
            "text/plain": [
              "0.9488602423824705"
            ]
          },
          "metadata": {},
          "execution_count": 171
        }
      ]
    },
    {
      "cell_type": "markdown",
      "source": [
        "## **Naive Bayes**"
      ],
      "metadata": {
        "id": "xif_BMWHri02"
      }
    },
    {
      "cell_type": "code",
      "source": [
        "nb=NaiveBayes(featuresCol='features',labelCol='label')\n",
        "nbModel=nb.fit(training_data)\n",
        "predictions=nbModel.transform(testing_data)"
      ],
      "metadata": {
        "id": "vKDMKZ4prhh-"
      },
      "execution_count": 172,
      "outputs": []
    },
    {
      "cell_type": "code",
      "source": [
        "evaluator=BinaryClassificationEvaluator(rawPredictionCol='prediction',labelCol='label')\n",
        "evaluator.evaluate(predictions)"
      ],
      "metadata": {
        "colab": {
          "base_uri": "https://localhost:8080/"
        },
        "id": "KGhUnFkfr52h",
        "outputId": "35d195c6-a97f-4324-93f9-a52c98f95504"
      },
      "execution_count": 173,
      "outputs": [
        {
          "output_type": "execute_result",
          "data": {
            "text/plain": [
              "0.7153642916630769"
            ]
          },
          "metadata": {},
          "execution_count": 173
        }
      ]
    }
  ],
  "metadata": {
    "colab": {
      "collapsed_sections": [],
      "name": "MDSC-302(P)-MiniProject-20239.ipynb",
      "provenance": []
    },
    "kernelspec": {
      "display_name": "Python 3",
      "name": "python3"
    },
    "language_info": {
      "name": "python"
    },
    "accelerator": "GPU",
    "gpuClass": "standard"
  },
  "nbformat": 4,
  "nbformat_minor": 0
}